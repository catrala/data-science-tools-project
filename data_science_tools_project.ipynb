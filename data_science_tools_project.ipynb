{
 "cells": [
  {
   "cell_type": "markdown",
   "id": "911f0f14",
   "metadata": {},
   "source": [
    "# Data Science Tools and Ecosystem"
   ]
  },
  {
   "cell_type": "markdown",
   "id": "431c9e78",
   "metadata": {},
   "source": [
    "## Introduction\n",
    "In this notebook, I summarize some of the tools and techniques used in data science, including popular languages, libraries, and platforms. I will also include examples of simple arithmetic operations using code."
   ]
  },
  {
   "cell_type": "markdown",
   "id": "c940641e",
   "metadata": {},
   "source": [
    "## Data Science Languages\n",
    "Some of the commonly used languages in Data Science are:\n",
    "- Python\n",
    "- R\n",
    "- SQL\n",
    "- Java\n",
    "- Julia"
   ]
  },
  {
   "cell_type": "markdown",
   "id": "5e6ef4f7",
   "metadata": {},
   "source": [
    "## Data Science Libraries\n",
    "Some popular libraries used by data scientists include:\n",
    "- Pandas\n",
    "- NumPy\n",
    "- Matplotlib\n",
    "- Scikit-learn\n",
    "- TensorFlow"
   ]
  },
  {
   "cell_type": "markdown",
   "id": "c297d554",
   "metadata": {},
   "source": [
    "## Data Science Tools\n",
    "| Category          | Tool               |\n",
    "|------------------|--------------------|\n",
    "| IDE              | Jupyter Notebooks  |\n",
    "| Data Integration | Apache NiFi        |\n",
    "| Big Data         | Apache Hadoop      |\n",
    "| Machine Learning | TensorFlow         |\n",
    "| Visualization    | Tableau            |"
   ]
  },
  {
   "cell_type": "markdown",
   "id": "51f4d3bf",
   "metadata": {},
   "source": [
    "## Arithmetic Expression Examples\n",
    "Below are examples of arithmetic expressions in Python:\n",
    "- Addition: `5 + 4`\n",
    "- Multiplication: `3 * 7`\n",
    "- Combination: `(10 + 5) * 2`"
   ]
  },
  {
   "cell_type": "code",
   "execution_count": null,
   "id": "b27b1bc9",
   "metadata": {},
   "outputs": [],
   "source": [
    "(3 * 4) + 5"
   ]
  },
  {
   "cell_type": "code",
   "execution_count": null,
   "id": "16d5e109",
   "metadata": {},
   "outputs": [],
   "source": [
    "minutes = 150\n",
    "hours = minutes / 60\n",
    "hours"
   ]
  },
  {
   "cell_type": "code",
   "execution_count": null,
   "id": "51d615c1",
   "metadata": {},
   "outputs": [],
   "source": [
    "objectives = [\n",
    "    \"List popular languages used in data science\",\n",
    "    \"List commonly used libraries\",\n",
    "    \"Create tables using markdown\",\n",
    "    \"Demonstrate simple arithmetic using code\"\n",
    "]\n",
    "objectives"
   ]
  },
  {
   "cell_type": "markdown",
   "id": "f607b86c",
   "metadata": {},
   "source": [
    "## Author\n",
    "**Camila**"
   ]
  }
 ],
 "metadata": {},
 "nbformat": 4,
 "nbformat_minor": 5
}
